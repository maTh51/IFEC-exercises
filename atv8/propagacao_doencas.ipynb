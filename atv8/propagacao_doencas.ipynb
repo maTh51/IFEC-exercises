{
  "nbformat": 4,
  "nbformat_minor": 0,
  "metadata": {
    "colab": {
      "name": "Untitled0.ipynb",
      "provenance": [],
      "collapsed_sections": []
    },
    "kernelspec": {
      "name": "python3",
      "display_name": "Python 3"
    },
    "language_info": {
      "name": "python"
    }
  },
  "cells": [
    {
      "cell_type": "code",
      "execution_count": null,
      "metadata": {
        "id": "HRR2Djt2BOoZ"
      },
      "outputs": [],
      "source": [
        "import numpy as np\n",
        "import matplotlib.pyplot as plt\n",
        "import matplotlib as mpl\n",
        "from numba import njit, types\n",
        "from numba.typed import Dict as NumbaDict\n"
      ]
    },
    {
      "cell_type": "code",
      "source": [
        "def estado_ini(L):\n",
        "  M = np.zeros(L*L)\n",
        "  M[(L*L)//2 + L//2] = 1\n",
        "  return M\n",
        "\n",
        "int_array = types.int64[:]\n",
        "\n",
        "\n",
        "@njit(nopython=True)\n",
        "def vizinhos(L,N):\n",
        "    #Define a tabela de vizinhos \n",
        "    viz = np.zeros((N,4),dtype=np.int16)\n",
        "    for k in range(N):\n",
        "        viz[k,0]=k+1\n",
        "        if (k+1) % L == 0: viz[k,0] = k+1-L\n",
        "        viz[k,1] = k+L \n",
        "        if k > (N-L-1): viz[k,1] = k+L-N\n",
        "        viz[k,2] = k-1 \n",
        "        if k % L == 0: viz[k,2] = k+L-1\n",
        "        viz[k,3] = k-L \n",
        "        if k < L: viz[k,3] = k+N-L\n",
        "    return viz"
      ],
      "metadata": {
        "colab": {
          "base_uri": "https://localhost:8080/"
        },
        "id": "vbVDKwgOCcFX",
        "outputId": "e687ac9c-1695-4a84-9024-b86e864d09f1"
      },
      "execution_count": null,
      "outputs": [
        {
          "output_type": "stream",
          "name": "stderr",
          "text": [
            "/usr/local/lib/python3.7/dist-packages/numba/core/decorators.py:252: RuntimeWarning: nopython is set for njit and is ignored\n",
            "  warnings.warn('nopython is set for njit and is ignored', RuntimeWarning)\n"
          ]
        }
      ]
    },
    {
      "cell_type": "code",
      "source": [
        "cmap = mpl.colors.ListedColormap([\"white\",\"blue\",\"yellow\"])\n",
        "bounds=[0,1,2,3]\n",
        "norm = mpl.colors.BoundaryNorm(bounds, cmap.N)\n"
      ],
      "metadata": {
        "id": "OTJvSCkjDQtO"
      },
      "execution_count": null,
      "outputs": []
    },
    {
      "cell_type": "code",
      "source": [
        "def print_matrix(M, N, L):\n",
        "  to_print = np.zeros((L, L), dtype=np.int8)\n",
        "\n",
        "  for i in range(L):\n",
        "    to_print[i] = M[L*i : L*i + L]\n",
        "\n",
        "  plt.imshow(to_print, cmap=cmap, norm=norm)\n",
        "  plt.show()"
      ],
      "metadata": {
        "id": "gQ1nteH8DbWP"
      },
      "execution_count": null,
      "outputs": []
    },
    {
      "cell_type": "code",
      "source": [
        "L = 100\n",
        "N = L*L\n",
        "M = estado_ini(L)\n",
        "print_matrix(M, N, L)"
      ],
      "metadata": {
        "id": "hetOoclXDnhd",
        "colab": {
          "base_uri": "https://localhost:8080/",
          "height": 268
        },
        "outputId": "f498c434-6575-41fd-b28c-8468599df6ff"
      },
      "execution_count": null,
      "outputs": [
        {
          "output_type": "display_data",
          "data": {
            "image/png": "[encoded data removed]",
            "text/plain": [
              "<Figure size 432x288 with 1 Axes>"
            ]
          },
          "metadata": {
            "needs_background": "light"
          }
        }
      ]
    },
    {
      "cell_type": "code",
      "source": [
        "def contato(h,p):\n",
        "  total = 0\n",
        "  atual = p\n",
        "\n",
        "  while h>0:\n",
        "    total += atual\n",
        "    atual *= (1-p)\n",
        "    h = h-1\n",
        "\n",
        "  return np.random.choice(np.array([0, 1]), 1, p=np.array([1-total, total]))[0]"
      ],
      "metadata": {
        "id": "OfOT08fSDq91"
      },
      "execution_count": null,
      "outputs": []
    },
    {
      "cell_type": "code",
      "source": [
        "def iteracao(M,viz,prob):\n",
        "  N=len(M)\n",
        "  M_novo = np.zeros(N, dtype=np.int32)\n",
        "\n",
        "  sus = rec = infec = 0\n",
        "\n",
        "  for i in range(N):\n",
        "\n",
        "    if M[i] == 0:\n",
        "      h = 0\n",
        "      for j in range(4):\n",
        "        if M[viz[i][j]] == 1:\n",
        "          h = h+1\n",
        "      M_novo[i] = contato(h, prob[0])\n",
        "    \n",
        "    elif M[i] == 1:\n",
        "      M_novo[i] = np.random.choice(np.array([1, 2]), 1, p=np.array([1-prob[1],prob[1]]))\n",
        "    \n",
        "    else:\n",
        "      M_novo[i] = 2\n",
        "\n",
        "    if M[i] == 0:\n",
        "      sus += 1\n",
        "    if M[i] == 1:\n",
        "      infec += 1\n",
        "    if M[i] == 2:\n",
        "      rec += 1\n",
        "\n",
        "  return sus, infec, rec, M_novo"
      ],
      "metadata": {
        "id": "ycZPIJykD0Ed"
      },
      "execution_count": null,
      "outputs": []
    },
    {
      "cell_type": "code",
      "source": [
        "def metropolis(M,prob,L,niter):\n",
        "  viz = vizinhos(L, L*L)\n",
        "\n",
        "  sus_list = []\n",
        "  infec_list = []\n",
        "  rec_list = []\n",
        "  \n",
        "  M_0 = M_25 = M_50 = M_75 = M_100 = None\n",
        "\n",
        "  for it in range(niter):\n",
        "    sus, infec, rec, M = iteracao(M, viz, prob)\n",
        "\n",
        "    if it == 0:\n",
        "      M_0 = M.copy()\n",
        "\n",
        "    if it == 25:\n",
        "      M_25 = M.copy()\n",
        "\n",
        "    if it == 50:\n",
        "      M_50 = M.copy()\n",
        "\n",
        "    if it == 75:\n",
        "      M_75 = M.copy()\n",
        "\n",
        "    if it == 100:\n",
        "      M_100 = M.copy()\n",
        "\n",
        "  sus_list.append(sus)\n",
        "  infec_list.append(infec)\n",
        "  rec_list.append(rec)\n",
        "  \n",
        "  return {\n",
        "      'M': M, \n",
        "      'sus': sus_list, \n",
        "      'infec': infec_list, \n",
        "      'rec': rec_list, \n",
        "      'M_0': M_0,\n",
        "      'M_25': M_25, \n",
        "      'M_50': M_50, \n",
        "      'M_75': M_75, \n",
        "      'M_100': M_100 \n",
        "    }"
      ],
      "metadata": {
        "id": "2w4aYbetEbGP"
      },
      "execution_count": null,
      "outputs": []
    },
    {
      "cell_type": "code",
      "source": [
        "%%time\n",
        "L = 100\n",
        "N = L*L\n",
        "M = estado_ini(L)\n",
        "prob = np.array([0.15, 0.01])\n",
        "niter = 101\n",
        "metrics = metropolis(M, prob, L, niter)\n",
        "\n"
      ],
      "metadata": {
        "id": "ZP6Fn_4OFGGm",
        "colab": {
          "base_uri": "https://localhost:8080/"
        },
        "outputId": "6acec2c4-0da4-49a1-979b-6102161d50eb"
      },
      "execution_count": null,
      "outputs": [
        {
          "output_type": "stream",
          "name": "stdout",
          "text": [
            "CPU times: user 58 s, sys: 268 ms, total: 58.3 s\n",
            "Wall time: 58.1 s\n"
          ]
        }
      ]
    },
    {
      "cell_type": "code",
      "source": [
        "plt.bar('Infectados', metrics['infec'], label = 'Infectados')\n",
        "plt.bar('Recuperados', metrics['rec'], label = 'Recuperados')\n",
        "plt.bar('Suscetiveis', metrics['sus'], label = 'Suscetiveis')\n",
        "plt.show()"
      ],
      "metadata": {
        "colab": {
          "base_uri": "https://localhost:8080/",
          "height": 265
        },
        "id": "69wO51b-5nN1",
        "outputId": "8bcc8770-08eb-4537-ff97-a9da75c142a1"
      },
      "execution_count": null,
      "outputs": [
        {
          "output_type": "display_data",
          "data": {
            "image/png": "[encoded data removed]",
            "text/plain": [
              "<Figure size 432x288 with 1 Axes>"
            ]
          },
          "metadata": {
            "needs_background": "light"
          }
        }
      ]
    },
    {
      "cell_type": "code",
      "source": [
        "print_matrix(metrics['M_0'], N, L)\n",
        "plt.show()"
      ],
      "metadata": {
        "id": "ZwZX33W3FKjt",
        "colab": {
          "base_uri": "https://localhost:8080/",
          "height": 268
        },
        "outputId": "c4c81558-94e0-4553-c0b4-7cea1a7ee8e3"
      },
      "execution_count": null,
      "outputs": [
        {
          "output_type": "display_data",
          "data": {
            "image/png": "[encoded data removed]",
            "text/plain": [
              "<Figure size 432x288 with 1 Axes>"
            ]
          },
          "metadata": {
            "needs_background": "light"
          }
        }
      ]
    },
    {
      "cell_type": "code",
      "source": [
        "print_matrix(metrics['M_25'], N, L)\n",
        "plt.show()"
      ],
      "metadata": {
        "id": "JkI7OtUJHyoQ",
        "colab": {
          "base_uri": "https://localhost:8080/",
          "height": 268
        },
        "outputId": "ef204d1f-5405-43b9-a650-c549eab76895"
      },
      "execution_count": null,
      "outputs": [
        {
          "output_type": "display_data",
          "data": {
            "image/png": "[encoded data removed]",
            "text/plain": [
              "<Figure size 432x288 with 1 Axes>"
            ]
          },
          "metadata": {
            "needs_background": "light"
          }
        }
      ]
    },
    {
      "cell_type": "code",
      "source": [
        "print_matrix(metrics['M_50'], N, L)\n",
        "plt.show()"
      ],
      "metadata": {
        "id": "Nc9g6aviH0QF",
        "colab": {
          "base_uri": "https://localhost:8080/",
          "height": 268
        },
        "outputId": "697c96c1-faf6-4d40-8818-bff5092cca67"
      },
      "execution_count": null,
      "outputs": [
        {
          "output_type": "display_data",
          "data": {
            "image/png": "[encoded data removed]",
            "text/plain": [
              "<Figure size 432x288 with 1 Axes>"
            ]
          },
          "metadata": {
            "needs_background": "light"
          }
        }
      ]
    },
    {
      "cell_type": "code",
      "source": [
        "print_matrix(metrics['M_75'], N, L)\n",
        "plt.show()"
      ],
      "metadata": {
        "id": "2WLAFnSvH1iM",
        "colab": {
          "base_uri": "https://localhost:8080/",
          "height": 268
        },
        "outputId": "0456740f-cbe6-44b5-e19c-c98e6feafc72"
      },
      "execution_count": null,
      "outputs": [
        {
          "output_type": "display_data",
          "data": {
            "image/png": "[encoded data removed]",
            "text/plain": [
              "<Figure size 432x288 with 1 Axes>"
            ]
          },
          "metadata": {
            "needs_background": "light"
          }
        }
      ]
    },
    {
      "cell_type": "code",
      "source": [
        "print_matrix(metrics['M'], N, L)\n",
        "plt.show()"
      ],
      "metadata": {
        "id": "_Z_u-7opH2oq",
        "colab": {
          "base_uri": "https://localhost:8080/",
          "height": 268
        },
        "outputId": "410a5062-e57a-4642-a0d2-dd0ad4ce6e93"
      },
      "execution_count": null,
      "outputs": [
        {
          "output_type": "display_data",
          "data": {
            "image/png": "[encoded data removed]",
            "text/plain": [
              "<Figure size 432x288 with 1 Axes>"
            ]
          },
          "metadata": {
            "needs_background": "light"
          }
        }
      ]
    },
    {
      "cell_type": "code",
      "source": [
        "%%time\n",
        "L = 100\n",
        "N = L*L\n",
        "M = estado_ini(L)\n",
        "prob = np.array([0.30, 0.01])\n",
        "niter = 101\n",
        "metrics1 = metropolis(M, prob, L, niter)"
      ],
      "metadata": {
        "id": "ao4b3mQ0H3-a",
        "colab": {
          "base_uri": "https://localhost:8080/"
        },
        "outputId": "cf926649-3b04-4d1a-eed6-ce27ba01944a"
      },
      "execution_count": null,
      "outputs": [
        {
          "output_type": "stream",
          "name": "stdout",
          "text": [
            "CPU times: user 55.7 s, sys: 250 ms, total: 55.9 s\n",
            "Wall time: 55.7 s\n"
          ]
        }
      ]
    },
    {
      "cell_type": "code",
      "source": [
        "plt.bar('Infectados', metrics1['infec'], label = 'Infectados')\n",
        "plt.bar('Recuperados', metrics1['rec'], label = 'Recuperados')\n",
        "plt.bar('Suscetiveis', metrics1['sus'], label = 'Suscetiveis')\n",
        "plt.show()"
      ],
      "metadata": {
        "colab": {
          "base_uri": "https://localhost:8080/",
          "height": 265
        },
        "id": "LS1N1MTL55bo",
        "outputId": "c48aa4eb-63e1-4b8e-93e1-c026ed69bc92"
      },
      "execution_count": null,
      "outputs": [
        {
          "output_type": "display_data",
          "data": {
            "image/png": "[encoded data removed]",
            "text/plain": [
              "<Figure size 432x288 with 1 Axes>"
            ]
          },
          "metadata": {
            "needs_background": "light"
          }
        }
      ]
    },
    {
      "cell_type": "code",
      "source": [
        "print_matrix(metrics1['M_0'], N, L)\n",
        "plt.show()\n"
      ],
      "metadata": {
        "id": "Uk2K9gWQH5JL",
        "colab": {
          "base_uri": "https://localhost:8080/",
          "height": 268
        },
        "outputId": "dbe83d23-6a90-425c-d8d6-25e890f059a5"
      },
      "execution_count": null,
      "outputs": [
        {
          "output_type": "display_data",
          "data": {
            "image/png": "[encoded data removed]",
            "text/plain": [
              "<Figure size 432x288 with 1 Axes>"
            ]
          },
          "metadata": {
            "needs_background": "light"
          }
        }
      ]
    },
    {
      "cell_type": "code",
      "source": [
        "print_matrix(metrics1['M_25'], N, L)\n",
        "plt.show()"
      ],
      "metadata": {
        "id": "GCjNjH_FH6uZ",
        "colab": {
          "base_uri": "https://localhost:8080/",
          "height": 268
        },
        "outputId": "3fb9628c-7f5c-4f44-995d-ebc9dd736345"
      },
      "execution_count": null,
      "outputs": [
        {
          "output_type": "display_data",
          "data": {
            "image/png": "[encoded data removed]",
            "text/plain": [
              "<Figure size 432x288 with 1 Axes>"
            ]
          },
          "metadata": {
            "needs_background": "light"
          }
        }
      ]
    },
    {
      "cell_type": "code",
      "source": [
        "print_matrix(metrics1['M_50'], N, L)\n",
        "plt.show()\n"
      ],
      "metadata": {
        "id": "xK7RygZxH8Oi",
        "colab": {
          "base_uri": "https://localhost:8080/",
          "height": 268
        },
        "outputId": "fac48e99-c088-4c6b-85f2-e10d3f2ae3a3"
      },
      "execution_count": null,
      "outputs": [
        {
          "output_type": "display_data",
          "data": {
            "image/png": "[encoded data removed]",
            "text/plain": [
              "<Figure size 432x288 with 1 Axes>"
            ]
          },
          "metadata": {
            "needs_background": "light"
          }
        }
      ]
    },
    {
      "cell_type": "code",
      "source": [
        "print_matrix(metrics1['M_75'], N, L)\n",
        "plt.show()"
      ],
      "metadata": {
        "id": "kmsyta5xH9w9",
        "colab": {
          "base_uri": "https://localhost:8080/",
          "height": 268
        },
        "outputId": "f3916b0e-8961-4a36-827f-51b456a35dc3"
      },
      "execution_count": null,
      "outputs": [
        {
          "output_type": "display_data",
          "data": {
            "image/png": "[encoded data removed]",
            "text/plain": [
              "<Figure size 432x288 with 1 Axes>"
            ]
          },
          "metadata": {
            "needs_background": "light"
          }
        }
      ]
    },
    {
      "cell_type": "code",
      "source": [
        "print_matrix(metrics1['M'], N, L)\n",
        "plt.show()"
      ],
      "metadata": {
        "id": "ZZH5pQXpH_Z-",
        "colab": {
          "base_uri": "https://localhost:8080/",
          "height": 268
        },
        "outputId": "bd3939c5-5303-41fa-c4c5-f407c9d623a7"
      },
      "execution_count": null,
      "outputs": [
        {
          "output_type": "display_data",
          "data": {
            "image/png": "[encoded data removed]",
            "text/plain": [
              "<Figure size 432x288 with 1 Axes>"
            ]
          },
          "metadata": {
            "needs_background": "light"
          }
        }
      ]
    },
    {
      "cell_type": "code",
      "source": [
        "%%time\n",
        "L = 100\n",
        "N = L*L\n",
        "M = estado_ini(L)\n",
        "prob = np.array([0.20, 0.05])\n",
        "niter = 101\n",
        "metrics2 = metropolis(M, prob, L, niter)\n"
      ],
      "metadata": {
        "id": "KI2horrxIBY5",
        "colab": {
          "base_uri": "https://localhost:8080/"
        },
        "outputId": "8df3e723-482a-466d-893e-5a755099aca5"
      },
      "execution_count": null,
      "outputs": [
        {
          "output_type": "stream",
          "name": "stdout",
          "text": [
            "CPU times: user 55.4 s, sys: 190 ms, total: 55.6 s\n",
            "Wall time: 55.3 s\n"
          ]
        }
      ]
    },
    {
      "cell_type": "code",
      "source": [
        "plt.bar('Infectados', metrics2['infec'], label = 'Infectados')\n",
        "plt.bar('Recuperados', metrics2['rec'], label = 'Recuperados')\n",
        "plt.bar('Suscetiveis', metrics2['sus'], label = 'Suscetiveis')\n",
        "plt.show()"
      ],
      "metadata": {
        "colab": {
          "base_uri": "https://localhost:8080/",
          "height": 265
        },
        "id": "YfjfR8B55_iJ",
        "outputId": "e5ee8303-c814-48f2-8656-3f55f51d9b0c"
      },
      "execution_count": null,
      "outputs": [
        {
          "output_type": "display_data",
          "data": {
            "image/png": "[encoded data removed]",
            "text/plain": [
              "<Figure size 432x288 with 1 Axes>"
            ]
          },
          "metadata": {
            "needs_background": "light"
          }
        }
      ]
    },
    {
      "cell_type": "code",
      "source": [
        "print_matrix(metrics2['M_0'], N, L)\n",
        "plt.show()"
      ],
      "metadata": {
        "id": "XZ86FMOEIB7e",
        "colab": {
          "base_uri": "https://localhost:8080/",
          "height": 268
        },
        "outputId": "7950d9cb-8f1f-479f-acba-2b560267244c"
      },
      "execution_count": null,
      "outputs": [
        {
          "output_type": "display_data",
          "data": {
            "image/png": "[encoded data removed]",
            "text/plain": [
              "<Figure size 432x288 with 1 Axes>"
            ]
          },
          "metadata": {
            "needs_background": "light"
          }
        }
      ]
    },
    {
      "cell_type": "code",
      "source": [
        "print_matrix(metrics2['M_25'], N, L)\n",
        "plt.show()\n"
      ],
      "metadata": {
        "id": "y4qb2kUrIDan",
        "colab": {
          "base_uri": "https://localhost:8080/",
          "height": 268
        },
        "outputId": "6e027e47-fbf5-4ab5-e257-8e243659ffb0"
      },
      "execution_count": null,
      "outputs": [
        {
          "output_type": "display_data",
          "data": {
            "image/png": "[encoded data removed]",
            "text/plain": [
              "<Figure size 432x288 with 1 Axes>"
            ]
          },
          "metadata": {
            "needs_background": "light"
          }
        }
      ]
    },
    {
      "cell_type": "code",
      "source": [
        "print_matrix(metrics2['M_50'], N, L)\n",
        "plt.show()"
      ],
      "metadata": {
        "id": "nDS6wYHkIFY_",
        "colab": {
          "base_uri": "https://localhost:8080/",
          "height": 268
        },
        "outputId": "6ad84a88-ff42-4b80-c583-882c8399a422"
      },
      "execution_count": null,
      "outputs": [
        {
          "output_type": "display_data",
          "data": {
            "image/png": "[encoded data removed]",
            "text/plain": [
              "<Figure size 432x288 with 1 Axes>"
            ]
          },
          "metadata": {
            "needs_background": "light"
          }
        }
      ]
    },
    {
      "cell_type": "code",
      "source": [
        "print_matrix(metrics2['M_75'], N, L)\n",
        "plt.show()\n"
      ],
      "metadata": {
        "id": "v7hEw6D7IHjw",
        "colab": {
          "base_uri": "https://localhost:8080/",
          "height": 268
        },
        "outputId": "fd68b4a3-42f1-478a-8188-84c5b99dc735"
      },
      "execution_count": null,
      "outputs": [
        {
          "output_type": "display_data",
          "data": {
            "image/png": "[encoded data removed]",
            "text/plain": [
              "<Figure size 432x288 with 1 Axes>"
            ]
          },
          "metadata": {
            "needs_background": "light"
          }
        }
      ]
    },
    {
      "cell_type": "code",
      "source": [
        "print_matrix(metrics2['M'], N, L)\n",
        "plt.show()"
      ],
      "metadata": {
        "id": "6EstZ4aHIIyw",
        "colab": {
          "base_uri": "https://localhost:8080/",
          "height": 268
        },
        "outputId": "3952fb55-2e2c-497a-a106-9b919128399a"
      },
      "execution_count": null,
      "outputs": [
        {
          "output_type": "display_data",
          "data": {
            "image/png": "[encoded data removed]",
            "text/plain": [
              "<Figure size 432x288 with 1 Axes>"
            ]
          },
          "metadata": {
            "needs_background": "light"
          }
        }
      ]
    },
    {
      "cell_type": "code",
      "source": [
        "%%time\n",
        "stats = np.zeros((3, 3))\n",
        "for i in range(5):\n",
        "\n",
        "  L = 100\n",
        "  N = L*L\n",
        "  niter = 101\n",
        "\n",
        "  prob0 = np.array([0.15, 0.01])\n",
        "  prob1 = np.array([0.30, 0.01])\n",
        "  prob2 = np.array([0.20, 0.05])\n",
        "\n",
        "  met0 = metropolis(estado_ini(L), prob0, L, niter)\n",
        "  met1 = metropolis(estado_ini(L), prob1, L, niter)\n",
        "  met2 = metropolis(estado_ini(L), prob2, L, niter)\n",
        "\n",
        "  stats[0][0] += met0['sus'][-1]\n",
        "  stats[0][1] += met0['infec'][-1]\n",
        "  stats[0][2] += met0['rec'][-1]\n",
        "\n",
        "  stats[1][0] += met1['sus'][-1]\n",
        "  stats[1][1] += met1['infec'][-1]\n",
        "  stats[1][2] += met1['rec'][-1]\n",
        "\n",
        "  stats[2][0] += met2['sus'][-1]\n",
        "  stats[2][1] += met2['infec'][-1]\n",
        "  stats[2][2] += met2['rec'][-1]\n",
        "\n",
        "for i in range(3):\n",
        "  for j in range(3):\n",
        "    stats[i][j] /= 5\n",
        "\n",
        "print(\"Simulação com:\", prob0)\n",
        "print(\"Suscetíveis:\", stats[0][0], \"Infectados:\", stats[0][1], \"Recuperados:\", stats[0][2])\n",
        "print(\"Simulação com:\", prob1)\n",
        "print(\"Suscetíveis:\", stats[1][0], \"Infectados:\", stats[1][1], \"Recuperados:\", stats[1][2])\n",
        "print(\"Simulação com:\", prob2)\n",
        "print(\"Suscetíveis:\", stats[2][0], \"Infectados:\", stats[2][1], \"Recuperados:\", stats[2][2])"
      ],
      "metadata": {
        "id": "q2Q7zCjtIL9_",
        "colab": {
          "base_uri": "https://localhost:8080/"
        },
        "outputId": "d7295ed1-62b5-4192-a577-f43bdd8a61f1"
      },
      "execution_count": null,
      "outputs": [
        {
          "output_type": "stream",
          "name": "stdout",
          "text": [
            "Simulação com: [0.15 0.01]\n",
            "Suscetíveis: 7882.8 Infectados: 1594.6 Recuperados: 522.6\n",
            "Simulação com: [0.3  0.01]\n",
            "Suscetíveis: 2965.4 Infectados: 5253.6 Recuperados: 1781.0\n",
            "Simulação com: [0.2  0.05]\n",
            "Suscetíveis: 6555.8 Infectados: 1135.2 Recuperados: 2309.0\n",
            "CPU times: user 14min 2s, sys: 5.02 s, total: 14min 7s\n",
            "Wall time: 14min 2s\n"
          ]
        }
      ]
    },
    {
      "cell_type": "code",
      "source": [
        "%%time\n",
        "L = 50\n",
        "N = L*L\n",
        "M = estado_ini(L)\n",
        "niter = 101\n",
        "tx_infec = [0.10, 0.15, 0.20, 0.25, 0.30]\n",
        "tx_rec = [0.01, 0.03, 0.05, 0.07]\n",
        "metrics = dict()\n",
        "\n",
        "for ti in tx_infec:\n",
        "  for tr in tx_rec:\n",
        "    metrics[(ti, tr)] = metropolis(M, np.array([ti, tr]), L, niter)\n"
      ],
      "metadata": {
        "id": "v9YkPVfWIP8R",
        "colab": {
          "base_uri": "https://localhost:8080/"
        },
        "outputId": "4d671ef0-a938-496d-fa97-e2d09b7939c8"
      },
      "execution_count": null,
      "outputs": [
        {
          "output_type": "stream",
          "name": "stdout",
          "text": [
            "CPU times: user 4min 4s, sys: 1.81 s, total: 4min 6s\n",
            "Wall time: 4min 4s\n"
          ]
        }
      ]
    },
    {
      "cell_type": "code",
      "source": [
        "def get_to_print(M, N, L):\n",
        "  to_print = np.zeros((L, L), dtype=np.int8)\n",
        "\n",
        "  for i in range(L):\n",
        "    to_print[i] = M[L*i : L*i + L]\n",
        "\n",
        "  return to_print"
      ],
      "metadata": {
        "id": "ixyrLvhTITkH"
      },
      "execution_count": null,
      "outputs": []
    },
    {
      "cell_type": "code",
      "source": [
        "L = 50\n",
        "N = L*L\n",
        "fig, ax = plt.subplots(4, 4, sharex='all', sharey='all', figsize=(32,16))\n",
        "fig.suptitle(\"Matriz de Plots\", fontsize=16)\n",
        "\n",
        "for i in range(4):\n",
        "  for j in range(4):\n",
        "    title = \"Infecção: \" + str(tx_infec[i]) + \", Recuperação: \" + str(tx_rec[j])\n",
        "    ax[i, j].title.set_text(title)\n",
        "    ax[i, j].imshow(get_to_print(metrics[(tx_infec[i], tx_rec[j])]['M'], N, L), cmap=cmap, norm=norm)\n",
        "\n",
        "plt.show()"
      ],
      "metadata": {
        "id": "PZq0n4omIXzd",
        "colab": {
          "base_uri": "https://localhost:8080/",
          "height": 899
        },
        "outputId": "a5af0494-8500-4ab6-ca5c-ecd952a7c9c1"
      },
      "execution_count": null,
      "outputs": [
        {
          "output_type": "display_data",
          "data": {
            "image/png": "[encoded data removed]",
            "text/plain": [
              "<Figure size 2304x1152 with 16 Axes>"
            ]
          },
          "metadata": {
            "needs_background": "light"
          }
        }
      ]
    }
  ]
}
